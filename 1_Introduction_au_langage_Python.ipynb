{
 "cells": [
  {
   "cell_type": "markdown",
   "metadata": {
    "id": "e7HLD7Hk2LJr"
   },
   "source": [
    "# **1. Introduction au langage Python**\n",
    "___\n",
    "\n",
    "\n",
    "[Python](https://www.python.org/) est un langage de programmation interprété, polyvalent, dynamique et de haut niveau. Il a été créé par [Guido van Rossum](https://fr.wikipedia.org/wiki/Guido_van_Rossum), nommé Benevolent Dictator for Life, et a été publié pour la première fois en 1991 :\n",
    "- La première version est sortie en 1991 sous le nom de Python 0.9.0.\n",
    "- La version Python 2.0 est sortie en 2000, puis a été abandonnée avec la version 2.7.18 en 2020.\n",
    "- La version Python 3.0, sortie en 2008, la dernière version stable étant python 3.11  du 24 octobre 2022 et supportée jusqu’en octobre 2027.\n",
    "\n",
    "\n",
    "<img src='https://miro.medium.com/max/1200/1*Pl9OyXXrLH_5JiQB8vNx3w.jpeg'>\n",
    "\n",
    "\n",
    "## **1. Environnements de Développement Intégré**\n",
    "\n",
    "Pour manipuler le langage de programmation, plusieurs environnements de développement intégré (**IDE**) sont disponibles sur le marché. Un IDE est un ensemble de logiciels intégrant un éditeur de code, un interpréteur de notebook ainsi qu'un terminal permettant d'interpréter et d'exécuter le code.\n",
    "\n",
    "Un **notebook** est un document interactif qui permet d'intégrer du code informatique, des textes explicatifs, des graphiques et d'autres éléments multimédias dans un seul environnement. L'extension pour ce type de fichier est  `'.ipynb'`.\n",
    "\n",
    "Parmi les IDE les plus populaires, on retrouve :\n",
    "\n",
    "- [Jupyter Lab](https://jupyterlab.readthedocs.io/en/latest/) : Un environnement interactif largement utilisé dans le domaine de la science des données et de l'apprentissage automatique. Il prend en charge le langage Python et offre une interface utilisateur conviviale pour la création de documents interactifs appelés \"Notebooks\".\n",
    "\n",
    "- [Visual Studio Code](https://code.visualstudio.com/) : Un IDE développé par Microsoft, très apprécié pour sa légèreté, sa polyvalence et son large éventail d'extensions. Il prend en charge de nombreux langages de programmation et offre des fonctionnalités avancées telles que la débogage, la gestion de version, et l'intégration avec des outils externes.\n",
    "\n",
    "- [Google Colaboratory](https://colab.google/) (Colab) : Une plateforme basée sur le cloud qui permet d'écrire et d'exécuter du code Python dans un environnement de notebook. Colab offre un accès gratuit aux ressources informatiques, y compris les GPU, ce qui en fait un choix populaire pour l'apprentissage machine et la recherche. Cet outil permet également le travail collaboratif à l'instar des ressources Google : Docs, Sheets, Slides, etc...\n",
    "\n",
    "Ces IDE offrent des fonctionnalités avancées telles que la coloration syntaxique, l'achèvement automatique, la gestion de projet, et facilitent le processus de développement. Il est important de choisir l'IDE en fonction des besoins spécifiques du projet et des préférences personnelles.\n",
    "\n",
    "**Jupyter Lab** et **Visual Studio Code** sont des ressources pouvant être installés à partir de Anaconda, une distribution open-source de Python et de R, créée par la société [Anaconda Inc](https://www.anaconda.com/).\n",
    "\n",
    "\n",
    "Voici les commandes les plus utiles permettant d'interagir avec un environnement Notebook :\n",
    "\n",
    "- `\"Maj\"` + \"Enter\" => Exécuter une cellule,\n",
    "- `\"a\"` =>créer une cellule en haut,\n",
    "- `\"b\"` => créer  une cellule en bas,\n",
    "- `\"dd\"` => supprimer une cellule,\n",
    "- `\"echap\"` => sortir d'une cellule,\n",
    "- `\"m\"` => Transformer une cellule de code en cellule de texte.\n",
    "\n",
    "\n"
   ]
  },
  {
   "cell_type": "code",
   "execution_count": null,
   "metadata": {},
   "outputs": [],
   "source": []
  },
  {
   "cell_type": "code",
   "execution_count": null,
   "metadata": {
    "id": "015_47rtroNP"
   },
   "outputs": [],
   "source": []
  },
  {
   "cell_type": "code",
   "execution_count": null,
   "metadata": {
    "id": "fhmja-rIroKX"
   },
   "outputs": [],
   "source": []
  },
  {
   "cell_type": "code",
   "execution_count": null,
   "metadata": {
    "id": "CUsyIvuDroHk"
   },
   "outputs": [],
   "source": []
  },
  {
   "cell_type": "code",
   "execution_count": null,
   "metadata": {
    "id": "trJ20ZYg6-an"
   },
   "outputs": [],
   "source": []
  },
  {
   "cell_type": "markdown",
   "metadata": {
    "id": "c0e2kbWZ5xZW"
   },
   "source": [
    "## **2. Variables et fonctions standards** :\n",
    "\n",
    "\n",
    "#### **2.1 Les Variables** :\n",
    "\n",
    "Une variable en programmation est un espace de stockage nommé qui contient une valeur ou une référence à une valeur. Les variables permettent de manipuler des données dans un programme. En Python, vous pouvez déclarer une variable en lui attribuant une valeur. Par exemple :\n",
    "\n",
    "- `x = 10`\n",
    "- `y = \"Hello, World!\"`\n",
    "- `z = [1, True, \"Bonjour\", 3.14]`\n",
    "\n",
    "L'instruction `x = 10` s'interprète de la manière suivante : Une variable `x` est placée en mémoire et sa valeur correspond à `10`.\n",
    "\n",
    "Il existe différent type de variable :\n",
    "\n",
    "- **Entiers** (int) : Les variables de type entier représentent des nombres entiers sans partie décimale.\n",
    "      Par exemple : `x = 5`.\n",
    "\n",
    "- **Nombres à virgule flottante** (float) : Les variables de type flottant représentent des nombres avec une partie décimale.\n",
    "      Par exemple : `y = 3.14`.\n",
    "\n",
    "- **Chaînes de caractères** (str) : Les variables de type chaîne stockent du texte. Par exemple : `message = \"Bonjour\"`.\n",
    "\n",
    "- **Listes** (list) : Les variables de type liste stockent une séquence ordonnée d'éléments.\n",
    "      Par exemple : `numbers = [1, 2, 3]`.\n",
    "\n",
    "- **Tuples** (tuple) : Les variables de type tuple sont similaires aux listes, mais elles sont immuables (on ne peut pas les modifier une fois créées).\n",
    "      Par exemple : `coordinates = (4, 5)`.\n",
    "\n",
    "- **Dictionnaires** (dict) : Les variables de type dictionnaire stockent des paires clé-valeur.\n",
    "      Par exemple : `person = {'nom': 'Dupont', 'âge': 25}`.\n",
    "\n",
    "- **Ensembles** (set) : Les variables de type ensemble stockent une collection d'éléments uniques, sans ordre.\n",
    "      Par exemple : `colors = {'rouge', 'vert', 'bleu'}`.\n",
    "\n",
    "- **Booléens** (bool) : Les variables de type booléen représentent les valeurs de vérité, soit True (vrai) ou False (faux).\n",
    "      Par exemple : `is_valid = True`.\n",
    "\n",
    "- **NoneType** (None) : Le type None est utilisé pour représenter l'absence de valeur ou une valeur nulle.\n",
    "      Par exemple : `result = None`.\n",
    "\n",
    "\n",
    "Python est un langage interprété et typé, ce qui signifie que le code source est exécuté ligne par ligne et le type de données sont déterminés à l'exécution. Il n'est donc pas nécessaire de définir le type des données lors de la création d'une variable.\n",
    "\n",
    "\n"
   ]
  },
  {
   "cell_type": "markdown",
   "metadata": {},
   "source": [
    "# Integer & float"
   ]
  },
  {
   "cell_type": "code",
   "execution_count": 2,
   "metadata": {
    "id": "7ZZrE0p770fi"
   },
   "outputs": [
    {
     "name": "stdout",
     "output_type": "stream",
     "text": [
      "18.14 Bonjour\n"
     ]
    },
    {
     "data": {
      "text/plain": [
       "18.14"
      ]
     },
     "execution_count": 2,
     "metadata": {},
     "output_type": "execute_result"
    }
   ],
   "source": [
    "b = 3.14\n",
    "a = 15\n",
    "c = a+ b\n",
    "print(c, \"Bonjour\")\n",
    "c"
   ]
  },
  {
   "cell_type": "code",
   "execution_count": 3,
   "metadata": {
    "id": "Wr92uvG9rp4R"
   },
   "outputs": [
    {
     "name": "stdout",
     "output_type": "stream",
     "text": [
      "Variable   Type     Data/Info\n",
      "-----------------------------\n",
      "a          int      15\n",
      "b          float    3.14\n",
      "c          float    18.14\n"
     ]
    }
   ],
   "source": [
    "%whos"
   ]
  },
  {
   "cell_type": "code",
   "execution_count": null,
   "metadata": {},
   "outputs": [],
   "source": [
    "# Addition \n",
    "+\n",
    "\n",
    "# Multiplication\n",
    "*\n",
    "\n",
    "# Division, \n",
    "/\n",
    "\n",
    "# Puissance \n",
    "**\n",
    "\n",
    "# Division avec partie entière\n",
    "//\n",
    "\n",
    "# Reste d'une division \n",
    "%"
   ]
  },
  {
   "cell_type": "code",
   "execution_count": 18,
   "metadata": {},
   "outputs": [
    {
     "data": {
      "text/plain": [
       "4"
      ]
     },
     "execution_count": 18,
     "metadata": {},
     "output_type": "execute_result"
    }
   ],
   "source": [
    "9//2"
   ]
  },
  {
   "cell_type": "code",
   "execution_count": 19,
   "metadata": {},
   "outputs": [
    {
     "data": {
      "text/plain": [
       "1"
      ]
     },
     "execution_count": 19,
     "metadata": {},
     "output_type": "execute_result"
    }
   ],
   "source": [
    "9%2"
   ]
  },
  {
   "cell_type": "code",
   "execution_count": null,
   "metadata": {},
   "outputs": [],
   "source": []
  },
  {
   "cell_type": "code",
   "execution_count": null,
   "metadata": {},
   "outputs": [],
   "source": []
  },
  {
   "cell_type": "code",
   "execution_count": null,
   "metadata": {},
   "outputs": [],
   "source": []
  },
  {
   "cell_type": "code",
   "execution_count": 6,
   "metadata": {
    "id": "Pu_qIJo2rpwM"
   },
   "outputs": [
    {
     "name": "stdout",
     "output_type": "stream",
     "text": [
      "18.14\n"
     ]
    }
   ],
   "source": [
    "print(c)"
   ]
  },
  {
   "cell_type": "code",
   "execution_count": 9,
   "metadata": {},
   "outputs": [
    {
     "data": {
      "text/plain": [
       "18.14"
      ]
     },
     "execution_count": 9,
     "metadata": {},
     "output_type": "execute_result"
    }
   ],
   "source": [
    "c"
   ]
  },
  {
   "cell_type": "code",
   "execution_count": null,
   "metadata": {},
   "outputs": [],
   "source": []
  },
  {
   "cell_type": "code",
   "execution_count": 7,
   "metadata": {
    "id": "2o3fPeohrptX"
   },
   "outputs": [
    {
     "data": {
      "text/plain": [
       "float"
      ]
     },
     "execution_count": 7,
     "metadata": {},
     "output_type": "execute_result"
    }
   ],
   "source": [
    "type(c)"
   ]
  },
  {
   "cell_type": "code",
   "execution_count": 8,
   "metadata": {
    "id": "6iZj-2_3rpnO"
   },
   "outputs": [
    {
     "data": {
      "text/plain": [
       "18.14"
      ]
     },
     "execution_count": 8,
     "metadata": {},
     "output_type": "execute_result"
    }
   ],
   "source": [
    "c"
   ]
  },
  {
   "cell_type": "markdown",
   "metadata": {},
   "source": [
    "# String : str"
   ]
  },
  {
   "cell_type": "code",
   "execution_count": 12,
   "metadata": {},
   "outputs": [
    {
     "data": {
      "text/plain": [
       "'BA'"
      ]
     },
     "execution_count": 12,
     "metadata": {},
     "output_type": "execute_result"
    }
   ],
   "source": [
    "'B' + \"A\""
   ]
  },
  {
   "cell_type": "code",
   "execution_count": 15,
   "metadata": {},
   "outputs": [
    {
     "data": {
      "text/plain": [
       "int"
      ]
     },
     "execution_count": 15,
     "metadata": {},
     "output_type": "execute_result"
    }
   ],
   "source": [
    "type(5)"
   ]
  },
  {
   "cell_type": "code",
   "execution_count": 14,
   "metadata": {},
   "outputs": [
    {
     "data": {
      "text/plain": [
       "False"
      ]
     },
     "execution_count": 14,
     "metadata": {},
     "output_type": "execute_result"
    }
   ],
   "source": [
    "'5' == 5"
   ]
  },
  {
   "cell_type": "code",
   "execution_count": 16,
   "metadata": {},
   "outputs": [
    {
     "data": {
      "text/plain": [
       "str"
      ]
     },
     "execution_count": 16,
     "metadata": {},
     "output_type": "execute_result"
    }
   ],
   "source": [
    "type('5')"
   ]
  },
  {
   "cell_type": "code",
   "execution_count": 7,
   "metadata": {},
   "outputs": [
    {
     "data": {
      "text/plain": [
       "'Bonjour tout le monde !,  il est 18.14 {Bonjour 18.14}'"
      ]
     },
     "execution_count": 7,
     "metadata": {},
     "output_type": "execute_result"
    }
   ],
   "source": [
    "f\"Bonjour tout le monde !,  il est {c} {{Bonjour {c}}}\""
   ]
  },
  {
   "cell_type": "code",
   "execution_count": null,
   "metadata": {},
   "outputs": [],
   "source": []
  },
  {
   "cell_type": "markdown",
   "metadata": {},
   "source": [
    "# Liste et tuple"
   ]
  },
  {
   "cell_type": "code",
   "execution_count": 11,
   "metadata": {},
   "outputs": [
    {
     "data": {
      "text/plain": [
       "[23, 'Bonjour', 9.3, 42]"
      ]
     },
     "execution_count": 11,
     "metadata": {},
     "output_type": "execute_result"
    }
   ],
   "source": [
    "liste_1 = [23, 'Bonjour', 9.3, 42]\n",
    "liste_1"
   ]
  },
  {
   "cell_type": "code",
   "execution_count": 12,
   "metadata": {},
   "outputs": [
    {
     "data": {
      "text/plain": [
       "23"
      ]
     },
     "execution_count": 12,
     "metadata": {},
     "output_type": "execute_result"
    }
   ],
   "source": [
    "# Premier élément\n",
    "liste_1[0]"
   ]
  },
  {
   "cell_type": "code",
   "execution_count": 15,
   "metadata": {},
   "outputs": [
    {
     "data": {
      "text/plain": [
       "42"
      ]
     },
     "execution_count": 15,
     "metadata": {},
     "output_type": "execute_result"
    }
   ],
   "source": [
    "# Dernier élément\n",
    "liste_1[-1]"
   ]
  },
  {
   "cell_type": "code",
   "execution_count": 17,
   "metadata": {},
   "outputs": [
    {
     "data": {
      "text/plain": [
       "[0, 1, 2, 3, 4, 5, 6]"
      ]
     },
     "execution_count": 17,
     "metadata": {},
     "output_type": "execute_result"
    }
   ],
   "source": [
    "liste_2 = [0, 1, 2, 3, 4, 5, 6]\n",
    "liste_2"
   ]
  },
  {
   "cell_type": "code",
   "execution_count": 18,
   "metadata": {},
   "outputs": [
    {
     "data": {
      "text/plain": [
       "[23, 'Bonjour', 9.3, 42, 0, 1, 2, 3, 4, 5, 6]"
      ]
     },
     "execution_count": 18,
     "metadata": {},
     "output_type": "execute_result"
    }
   ],
   "source": [
    "liste_1 + liste_2"
   ]
  },
  {
   "cell_type": "code",
   "execution_count": 42,
   "metadata": {},
   "outputs": [
    {
     "data": {
      "text/plain": [
       "[4, 5, 6]"
      ]
     },
     "execution_count": 42,
     "metadata": {},
     "output_type": "execute_result"
    }
   ],
   "source": [
    "# Slice\n",
    "liste_2[-3:]"
   ]
  },
  {
   "cell_type": "code",
   "execution_count": 48,
   "metadata": {},
   "outputs": [
    {
     "data": {
      "text/plain": [
       "'njou'"
      ]
     },
     "execution_count": 48,
     "metadata": {},
     "output_type": "execute_result"
    }
   ],
   "source": [
    "mot = 'Bonjour'\n",
    "mot[2:-1]"
   ]
  },
  {
   "cell_type": "code",
   "execution_count": 58,
   "metadata": {},
   "outputs": [
    {
     "data": {
      "text/plain": [
       "30"
      ]
     },
     "execution_count": 58,
     "metadata": {},
     "output_type": "execute_result"
    }
   ],
   "source": [
    "liste_1[0] = 30\n",
    "liste_1[0]"
   ]
  },
  {
   "cell_type": "code",
   "execution_count": null,
   "metadata": {},
   "outputs": [],
   "source": []
  },
  {
   "cell_type": "code",
   "execution_count": 54,
   "metadata": {},
   "outputs": [],
   "source": [
    "tuple_1 = (0, 1, 2, 3, 4, 5, 6)"
   ]
  },
  {
   "cell_type": "code",
   "execution_count": 62,
   "metadata": {},
   "outputs": [
    {
     "ename": "TypeError",
     "evalue": "'tuple' object does not support item assignment",
     "output_type": "error",
     "traceback": [
      "\u001b[1;31m---------------------------------------------------------------------------\u001b[0m",
      "\u001b[1;31mTypeError\u001b[0m                                 Traceback (most recent call last)",
      "\u001b[1;32m<ipython-input-62-3cd4f390254e>\u001b[0m in \u001b[0;36m<module>\u001b[1;34m\u001b[0m\n\u001b[1;32m----> 1\u001b[1;33m \u001b[0mtuple_1\u001b[0m\u001b[1;33m[\u001b[0m\u001b[1;36m0\u001b[0m\u001b[1;33m]\u001b[0m \u001b[1;33m=\u001b[0m \u001b[1;36m65\u001b[0m\u001b[1;33m\u001b[0m\u001b[1;33m\u001b[0m\u001b[0m\n\u001b[0m",
      "\u001b[1;31mTypeError\u001b[0m: 'tuple' object does not support item assignment"
     ]
    }
   ],
   "source": [
    "tuple_1[0] = 65"
   ]
  },
  {
   "cell_type": "code",
   "execution_count": null,
   "metadata": {},
   "outputs": [],
   "source": []
  },
  {
   "cell_type": "markdown",
   "metadata": {},
   "source": [
    "# Boolean"
   ]
  },
  {
   "cell_type": "code",
   "execution_count": 69,
   "metadata": {},
   "outputs": [
    {
     "data": {
      "text/plain": [
       "2"
      ]
     },
     "execution_count": 69,
     "metadata": {},
     "output_type": "execute_result"
    }
   ],
   "source": [
    "True + True + False"
   ]
  },
  {
   "cell_type": "code",
   "execution_count": 67,
   "metadata": {},
   "outputs": [
    {
     "data": {
      "text/plain": [
       "True"
      ]
     },
     "execution_count": 67,
     "metadata": {},
     "output_type": "execute_result"
    }
   ],
   "source": [
    "False == 0"
   ]
  },
  {
   "cell_type": "markdown",
   "metadata": {},
   "source": [
    "# Dictionnaire"
   ]
  },
  {
   "cell_type": "code",
   "execution_count": 85,
   "metadata": {},
   "outputs": [
    {
     "data": {
      "text/plain": [
       "{'nom': 'Dupont', 'âge': 25, list: 'Bonjour'}"
      ]
     },
     "execution_count": 85,
     "metadata": {},
     "output_type": "execute_result"
    }
   ],
   "source": [
    "dict_1 = {'nom': 'Dupont', 'âge': 25, list : 'Bonjour'}\n",
    "dict_1"
   ]
  },
  {
   "cell_type": "code",
   "execution_count": 75,
   "metadata": {},
   "outputs": [
    {
     "data": {
      "text/plain": [
       "'Bonjour'"
      ]
     },
     "execution_count": 75,
     "metadata": {},
     "output_type": "execute_result"
    }
   ],
   "source": [
    "dict_1[1]"
   ]
  },
  {
   "cell_type": "code",
   "execution_count": 100,
   "metadata": {},
   "outputs": [
    {
     "data": {
      "text/plain": [
       "['nom', 'âge', list, 42, 'print']"
      ]
     },
     "execution_count": 100,
     "metadata": {},
     "output_type": "execute_result"
    }
   ],
   "source": [
    "list(dict_1.keys())"
   ]
  },
  {
   "cell_type": "code",
   "execution_count": 87,
   "metadata": {},
   "outputs": [
    {
     "data": {
      "text/plain": [
       "dict_values(['Dupont', 25, 'Bonjour'])"
      ]
     },
     "execution_count": 87,
     "metadata": {},
     "output_type": "execute_result"
    }
   ],
   "source": [
    "dict_1.values()"
   ]
  },
  {
   "cell_type": "code",
   "execution_count": 88,
   "metadata": {},
   "outputs": [],
   "source": [
    "dict_1[42] = 'test'"
   ]
  },
  {
   "cell_type": "code",
   "execution_count": 89,
   "metadata": {},
   "outputs": [
    {
     "data": {
      "text/plain": [
       "{'nom': 'Dupont', 'âge': 25, list: 'Bonjour', 42: 'test'}"
      ]
     },
     "execution_count": 89,
     "metadata": {},
     "output_type": "execute_result"
    }
   ],
   "source": [
    "dict_1"
   ]
  },
  {
   "cell_type": "code",
   "execution_count": 90,
   "metadata": {},
   "outputs": [],
   "source": [
    "dict_1['print'] = print"
   ]
  },
  {
   "cell_type": "code",
   "execution_count": 92,
   "metadata": {},
   "outputs": [
    {
     "name": "stdout",
     "output_type": "stream",
     "text": [
      "Bonjour\n"
     ]
    }
   ],
   "source": [
    "dict_1['print']('Bonjour')"
   ]
  },
  {
   "cell_type": "markdown",
   "metadata": {},
   "source": [
    "# Set"
   ]
  },
  {
   "cell_type": "code",
   "execution_count": 24,
   "metadata": {},
   "outputs": [
    {
     "data": {
      "text/plain": [
       "{5, 9}"
      ]
     },
     "execution_count": 24,
     "metadata": {},
     "output_type": "execute_result"
    }
   ],
   "source": [
    "set_1 = {9,5,5,5,9,5,9}\n",
    "set_1"
   ]
  },
  {
   "cell_type": "code",
   "execution_count": 8,
   "metadata": {},
   "outputs": [
    {
     "data": {
      "text/plain": [
       "{'a', 'b', 'c'}"
      ]
     },
     "execution_count": 8,
     "metadata": {},
     "output_type": "execute_result"
    }
   ],
   "source": [
    "set_2 = {'c', 'a', 'b'}\n",
    "set_2"
   ]
  },
  {
   "cell_type": "code",
   "execution_count": 26,
   "metadata": {},
   "outputs": [
    {
     "data": {
      "text/plain": [
       "{5, 9}"
      ]
     },
     "execution_count": 26,
     "metadata": {},
     "output_type": "execute_result"
    }
   ],
   "source": [
    "set(list(set_1))"
   ]
  },
  {
   "cell_type": "code",
   "execution_count": 3,
   "metadata": {},
   "outputs": [
    {
     "data": {
      "text/plain": [
       "['__and__',\n",
       " '__class__',\n",
       " '__contains__',\n",
       " '__delattr__',\n",
       " '__dir__',\n",
       " '__doc__',\n",
       " '__eq__',\n",
       " '__format__',\n",
       " '__ge__',\n",
       " '__getattribute__',\n",
       " '__gt__',\n",
       " '__hash__',\n",
       " '__iand__',\n",
       " '__init__',\n",
       " '__init_subclass__',\n",
       " '__ior__',\n",
       " '__isub__',\n",
       " '__iter__',\n",
       " '__ixor__',\n",
       " '__le__',\n",
       " '__len__',\n",
       " '__lt__',\n",
       " '__ne__',\n",
       " '__new__',\n",
       " '__or__',\n",
       " '__rand__',\n",
       " '__reduce__',\n",
       " '__reduce_ex__',\n",
       " '__repr__',\n",
       " '__ror__',\n",
       " '__rsub__',\n",
       " '__rxor__',\n",
       " '__setattr__',\n",
       " '__sizeof__',\n",
       " '__str__',\n",
       " '__sub__',\n",
       " '__subclasshook__',\n",
       " '__xor__',\n",
       " 'add',\n",
       " 'clear',\n",
       " 'copy',\n",
       " 'difference',\n",
       " 'difference_update',\n",
       " 'discard',\n",
       " 'intersection',\n",
       " 'intersection_update',\n",
       " 'isdisjoint',\n",
       " 'issubset',\n",
       " 'issuperset',\n",
       " 'pop',\n",
       " 'remove',\n",
       " 'symmetric_difference',\n",
       " 'symmetric_difference_update',\n",
       " 'union',\n",
       " 'update']"
      ]
     },
     "execution_count": 3,
     "metadata": {},
     "output_type": "execute_result"
    }
   ],
   "source": [
    "dir(set_1)"
   ]
  },
  {
   "cell_type": "code",
   "execution_count": 19,
   "metadata": {},
   "outputs": [
    {
     "data": {
      "text/plain": [
       "{'a', 'b', 'c'}"
      ]
     },
     "execution_count": 19,
     "metadata": {},
     "output_type": "execute_result"
    }
   ],
   "source": [
    "set_2"
   ]
  },
  {
   "cell_type": "code",
   "execution_count": 22,
   "metadata": {},
   "outputs": [
    {
     "data": {
      "text/plain": [
       "'a'"
      ]
     },
     "execution_count": 22,
     "metadata": {},
     "output_type": "execute_result"
    }
   ],
   "source": [
    "set_2.pop()"
   ]
  },
  {
   "cell_type": "code",
   "execution_count": 18,
   "metadata": {},
   "outputs": [
    {
     "data": {
      "text/plain": [
       "set()"
      ]
     },
     "execution_count": 18,
     "metadata": {},
     "output_type": "execute_result"
    }
   ],
   "source": [
    "set_1"
   ]
  },
  {
   "cell_type": "markdown",
   "metadata": {
    "id": "vTAtvLMC-d5o"
   },
   "source": [
    "\n",
    "#### **2.2 Les Fonctions standards**\n",
    "\n",
    "En programmation, une fonction est un bloc de code réutilisable qui effectue une tâche spécifique. Les fonctions permettent de structurer un programme, d'encapsuler des opérations, et de rendre le code plus lisible et modulaire. Une fonction peut prendre des arguments en entrée, effectuer des opérations, et renvoyer un résultat en sortie.\n",
    "\n",
    "Voici la méthode d'utilisation d'une fonction :\n",
    "- `fonction(argument)`   où `argument` est la variable utilisée par la fonction.\n",
    "\n",
    "\n",
    "**Voici les fonctions standards de python** :\n",
    "- `print` : Affiche la variable passée en argument.\n",
    "- `type`  : Renvoi le type de la variable passée en paramètre.\n",
    "- `int`   : Transforme un nombre réel en entier naturel.\n",
    "- `float` : Transforme un nombre quelconque en nombre réel.\n",
    "- `str`   : Transforme la variable passée en entrée en chaine de caractère.\n",
    "- `bool`  : Renvoi True ou False en fonction de la variable passée en paramètre.\n",
    "- `list`  : Renvoi une list en fonction de l'itérable passée en entrée.\n",
    "- `len`   : Renvoi la taille de la liste entrée en paramètre.\n",
    "- `dir`   : Renvoi la liste des méthodes de l'objet entré en paramètre.\n",
    "- `input` : Crée une zone de saisie de texte.\n",
    "- `range` : Renvoi une liste de nombre entier de 0 à `n`, où `n` est la variable passée en paramètre.\n",
    "\n",
    "Ces fonctions sont largement utilisées dans le développement Python et constituent une base solide pour la manipulation de données, l'interaction avec l'utilisateur et bien d'autres tâches courantes."
   ]
  },
  {
   "cell_type": "code",
   "execution_count": 119,
   "metadata": {
    "id": "ewHxWLkYIQBB"
   },
   "outputs": [
    {
     "data": {
      "text/plain": [
       "'\\nBonjour\\n\\nTest\\n\\n'"
      ]
     },
     "execution_count": 119,
     "metadata": {},
     "output_type": "execute_result"
    }
   ],
   "source": [
    "\"\"\"\n",
    "Bonjour\n",
    "\n",
    "Test\n",
    "\n",
    "\"\"\""
   ]
  },
  {
   "cell_type": "code",
   "execution_count": 134,
   "metadata": {},
   "outputs": [
    {
     "name": "stdout",
     "output_type": "stream",
     "text": [
      "Saisir votre texte : Bonjour\n"
     ]
    }
   ],
   "source": [
    "user_input = input(\"Saisir votre texte : \")"
   ]
  },
  {
   "cell_type": "code",
   "execution_count": 135,
   "metadata": {},
   "outputs": [
    {
     "name": "stdout",
     "output_type": "stream",
     "text": [
      "Bonjour\n"
     ]
    }
   ],
   "source": [
    "print(user_input)"
   ]
  },
  {
   "cell_type": "code",
   "execution_count": null,
   "metadata": {},
   "outputs": [],
   "source": []
  },
  {
   "cell_type": "markdown",
   "metadata": {
    "id": "bLwLyvQb_X_a"
   },
   "source": [
    "Il existe une convention de nommage recommandée pour déclarer des variables. Ces conventions sont définies dans le [PEP 8](https://peps.python.org/pep-0008/), qui est le guide de style officiel de Python. Voici quelques points clés de la convention de nommage des variables en Python :\n",
    "\n",
    "**Minuscules et Mots Séparés par des Underscores (snake_case)** : Les noms de variables doivent être en minuscules, et les mots doivent être séparés par des underscores (_). Par exemple : ma_variable, nom_utilisateur.\n",
    "\n",
    "**Clarté et Expressivité** : Les noms de variables doivent être descriptifs et expressifs afin de faciliter la compréhension du code. Évitez les noms trop courts ou trop généraux.\n",
    "\n",
    "**Éviter les Mots Réservés** : Évitez d'utiliser des mots réservés de Python comme noms de variables. Par exemple, n'utilisez pas des noms tels que class, int, ou str pour vos variables.\n",
    "\n",
    "**Utiliser des Noms Significatifs** : Choisissez des noms de variables qui reflètent le but ou le contenu de la variable. Par exemple, utilisez somme_total plutôt que st pour une variable représentant la somme totale.\n",
    "\n",
    "**Éviter les Abréviations Confuses** : Évitez d'utiliser des abréviations qui pourraient prêter à confusion. Par exemple, préférez utilisateurs à usr.\n",
    "\n",
    "**Suivre la Convention CamelCase pour les Classes** : Si vous utilisez des classes, le nom de la classe doit suivre la convention CamelCase (chaque mot commence par une majuscule, sans espaces ni underscores). Par exemple : MaClasse, UtilisateurEnregistre.\n",
    "\n",
    "Voici quelques exemples conformes à la convention de nommage :\n",
    "\n",
    "- `nom_utilisateur = \"john_doe\"`\n",
    "- `somme_totale = 1000.50`\n",
    "- `liste_de_courses = ['pain', 'lait', 'œufs']`"
   ]
  },
  {
   "cell_type": "code",
   "execution_count": 126,
   "metadata": {
    "id": "UwI3I8TJAwPb"
   },
   "outputs": [
    {
     "name": "stdout",
     "output_type": "stream",
     "text": [
      "Variable   Type     Data/Info\n",
      "-----------------------------\n",
      "b          float    3.14\n",
      "c          float    18.14\n",
      "dict_1     dict     n=5\n",
      "int        int      3\n",
      "liste_1    list     n=4\n",
      "liste_2    list     n=7\n",
      "mot        str      Bonjour\n",
      "tuple_1    tuple    n=7\n",
      "var        bool     True\n",
      "var2       range    range(0, 1)\n"
     ]
    }
   ],
   "source": [
    "%whos"
   ]
  },
  {
   "cell_type": "code",
   "execution_count": 121,
   "metadata": {
    "id": "f2eViztPAvnV"
   },
   "outputs": [],
   "source": [
    "int = 3"
   ]
  },
  {
   "cell_type": "code",
   "execution_count": 127,
   "metadata": {
    "id": "zKWiEFPCsTjA"
   },
   "outputs": [],
   "source": [
    "del int"
   ]
  },
  {
   "cell_type": "code",
   "execution_count": 128,
   "metadata": {
    "id": "eqM8b9-dsTOq"
   },
   "outputs": [
    {
     "data": {
      "text/plain": [
       "5"
      ]
     },
     "execution_count": 128,
     "metadata": {},
     "output_type": "execute_result"
    }
   ],
   "source": [
    "int('5')"
   ]
  },
  {
   "cell_type": "markdown",
   "metadata": {
    "id": "8GsNCERX7zP8"
   },
   "source": [
    "## **3. Opérateurs logiques Conditions et Boucles** :\n",
    "\n",
    "Un opérateur logique est un symbole ou un mot-clé utilisé pour effectuer des opérations logiques sur des valeurs booléennes. Les opérateurs logiques permettent de combiner ou de manipuler des expressions logiques, généralement représentées par des valeurs booléennes (True ou False).\n",
    "\n",
    "#### **3.1 Les oppérateurs**\n",
    "\n",
    "\n",
    "Les principaux opérateurs logiques en programmation sont généralement les suivants :\n",
    "- `==` : Renvoi True si les deux éléments comparés sont égaux\n",
    "\n",
    "      exemple : `3+3 == 6`\n",
    "\n",
    "- `!=` : Renvoi True si les deux éléments comparés sont différent\n",
    "\n",
    "      exemple : 3 != 6\n",
    "\n",
    "\n",
    "- `<` (ou `<=`) : Renvoi `True` si l'élément de gauche est plus petit (ou égale) à celui de droite\n",
    "\n",
    "      exemple : `3 < 6`\n",
    "\n",
    "\n",
    "- `>` (ou `>=`) : Renvoi `False` si l'élément de gauche est plus grand (ou égale) à celui de droite\n",
    "\n",
    "      exemple : `3 > 6`"
   ]
  },
  {
   "cell_type": "code",
   "execution_count": 147,
   "metadata": {
    "id": "CCi1MLBVIP-b"
   },
   "outputs": [
    {
     "data": {
      "text/plain": [
       "True"
      ]
     },
     "execution_count": 147,
     "metadata": {},
     "output_type": "execute_result"
    }
   ],
   "source": [
    "len('C' ) <= len('B')"
   ]
  },
  {
   "cell_type": "code",
   "execution_count": null,
   "metadata": {
    "id": "aqp1gYfdC8Bj"
   },
   "outputs": [],
   "source": []
  },
  {
   "cell_type": "markdown",
   "metadata": {
    "id": "9314GYe-C3Oc"
   },
   "source": [
    "#### **3.2 Les oppérateurs logiques**\n",
    "\n",
    "* **ET (AND)** : L'opérateur logique ET (and) renvoie True si toutes les expressions logiques qu'il combine sont True. Sinon, il renvoie False.\n",
    "\n",
    "      exemple :`resultat = (True and False)  # Résultat : False`\n",
    "\n",
    "* **OU (OR)** : L'opérateur logique OU (or) renvoie True si au moins l'une des expressions logiques qu'il combine est True. Il renvoie False si toutes les expressions sont False.\n",
    "\n",
    "      exemple :`resultat = (True or False)  # Résultat : True`\n",
    "\n",
    "* **NON (NOT)** : L'opérateur logique NON (not) renvoie l'inverse de la valeur logique d'une expression. Si l'expression est True, NOT renverra False, et vice versa.\n",
    "\n",
    "      exemple :`resultat = not True  # Résultat : False`\n",
    "\n",
    "* **IN** : L'opérateur in est souvent utilisé pour vérifier si une valeur est présente dans une séquence. Il renvoie True si c'est le cas.\n",
    "\n",
    "      exemple : `resultat = 3 in [1, 2, 3, 4, 5]  # Résultat : True`"
   ]
  },
  {
   "cell_type": "code",
   "execution_count": null,
   "metadata": {},
   "outputs": [],
   "source": []
  },
  {
   "cell_type": "code",
   "execution_count": 151,
   "metadata": {
    "id": "uQDbCC8KIPvt"
   },
   "outputs": [
    {
     "data": {
      "text/plain": [
       "True"
      ]
     },
     "execution_count": 151,
     "metadata": {},
     "output_type": "execute_result"
    }
   ],
   "source": [
    "'B' in 'Bonjour'"
   ]
  },
  {
   "cell_type": "code",
   "execution_count": 161,
   "metadata": {
    "id": "JpTbgn27IPtW"
   },
   "outputs": [
    {
     "data": {
      "text/plain": [
       "[1, 3, 5, 7, 9]"
      ]
     },
     "execution_count": 161,
     "metadata": {},
     "output_type": "execute_result"
    }
   ],
   "source": [
    "1 in range(5)"
   ]
  },
  {
   "cell_type": "markdown",
   "metadata": {
    "id": "MvQrC4FDC9AE"
   },
   "source": [
    "#### **3.3 Les conditions**\n",
    "\n",
    "Les conditions sont des expressions logiques qui permettent de prendre des décisions dans un programme en fonction de certaines circonstances. Les structures conditionnelles sont essentielles pour contrôler le flux d'exécution du programme. En programmation, les conditions sont généralement exprimées à l'aide de constructions telles que `if`, `else`, et éventuellement `elif` (else if).\n",
    "\n",
    "\n",
    "* **Syntaxe de base avec if** :\n",
    "      if condition:\n",
    "          pass # Bloc de code à exécuter si la condition est vraie\n",
    "\n",
    "* **Conditions Composées avec else** :\n",
    "      if condition:\n",
    "          pass # Bloc de code à exécuter si la condition est vraie\n",
    "      else:\n",
    "          pass # Bloc de code à exécuter si la condition est fausse\n",
    "\n",
    "\n",
    "* **Conditions Multiples avec elif** :\n",
    "      if condition1:\n",
    "          pass# Bloc de code à exécuter si condition1 est vraie\n",
    "      elif condition2:\n",
    "          pass# Bloc de code à exécuter si condition2 est vraie\n",
    "      else:\n",
    "          pass# Bloc de code à exécuter si toutes les conditions précédentes sont fausses\n",
    "* **Conditions Logiques avec and, or, not** :\n",
    "      if condition1 and condition2:\n",
    "          pass # Bloc de code à exécuter si les deux conditions sont vraies\n",
    "      if condition1 or condition2:\n",
    "            pass # Bloc de code à exécuter si au moins l'une des conditions est vraie\n",
    "      if not condition:\n",
    "            pass # Bloc de code à exécuter si la condition est fausse\n",
    "\n",
    "Tout ce qui est compris dans l'indentation sera exécuté si la condition est respectée.\n",
    "\n",
    "L'**indentation** en Python est un élément essentiel de la syntaxe du langage. Contrairement à certains langages qui utilisent des accolades {} pour délimiter les blocs de code, Python utilise l'indentation pour définir la structure du code. L'indentation consiste en des espaces ou des tabulations placées au début des lignes pour indiquer l'appartenance à un bloc de code particulier.\n",
    "\n",
    "\n",
    "\n",
    "\n",
    "A noter, l'instruction `pass` est utilisée comme un espace réservé pour une instruction qui ne fait rien. Elle est souvent utilisée lorsqu'une syntaxe correcte est requise mais qu'aucune action n'est nécessaire ou souhaitée. En d'autres termes, pass est une instruction qui ne fait rien et n'affecte pas le déroulement du programme.\n",
    "\n",
    "De plus, il est possible d'ajouter des commentaires à son code avec le symbole`#`."
   ]
  },
  {
   "cell_type": "code",
   "execution_count": 166,
   "metadata": {},
   "outputs": [],
   "source": [
    "a = 5"
   ]
  },
  {
   "cell_type": "code",
   "execution_count": 178,
   "metadata": {
    "id": "QS33M43eIPq5"
   },
   "outputs": [],
   "source": [
    "if ('{[a != 5]}') and (a < 5):\n",
    "    print(\"Hello !\")\n",
    "    print(a)\n",
    "else:\n",
    "    pass  "
   ]
  },
  {
   "cell_type": "code",
   "execution_count": null,
   "metadata": {
    "id": "mYS2qGJsF9JN"
   },
   "outputs": [],
   "source": []
  },
  {
   "cell_type": "code",
   "execution_count": null,
   "metadata": {
    "id": "dB6-C_-eF9GP"
   },
   "outputs": [],
   "source": []
  },
  {
   "cell_type": "markdown",
   "metadata": {
    "id": "hFd8qWxJF9jS"
   },
   "source": [
    "#### **3.4 Les boucles `while` et `for`**\n",
    "\n",
    "Les boucles permettent d'exécuter un bloc de code de manière répétée tant qu'une condition spécifiée est vraie (boucle while) ou pour chaque élément d'une séquence (boucle for). Les boucles sont essentielles pour automatiser des tâches répétitives.\n",
    "\n",
    "* **Boucle `while`** :La boucle while exécute un bloc de code tant qu'une condition spécifiée est vraie. La syntaxe de base est la suivante :\n",
    "\n",
    "      while condition:\n",
    "          pass #Bloc de code à exécuter tant que la condition est vraie\n",
    "\n",
    "  Exemple :\n",
    "      compteur = 0\n",
    "\n",
    "      while compteur < 5:\n",
    "          print(compteur)\n",
    "          compteur += 1\n",
    "\n",
    "* **Boucle `for`** : La boucle `for` itère sur les éléments d'une séquence (comme une liste, une chaîne de caractères, ou un tuple) et exécute un bloc de code pour chaque élément. La syntaxe de base est la suivante :\n",
    "      for variable in sequence:\n",
    "        pass #Bloc de code à exécuter pour chaque élément de la séquence\n",
    "  Exemple :\n",
    "      for i in range(5):\n",
    "        print(i)\n",
    "\n",
    "-> Instruction `break` : Permet de sortir prématurément d'une boucle.\n",
    "\n",
    "-> Instruction `continue` : Permet de passer à l'itération suivante de la boucle sans exécuter le reste du code."
   ]
  },
  {
   "cell_type": "code",
   "execution_count": 187,
   "metadata": {
    "id": "LADW1N_0Ho2s"
   },
   "outputs": [
    {
     "name": "stdout",
     "output_type": "stream",
     "text": [
      "2 - Hello !\n",
      "4 - Hello !\n",
      "8 - Hello !\n"
     ]
    }
   ],
   "source": [
    "i=2\n",
    "while i<10:\n",
    "    print(f'{i} - Hello !')\n",
    "    i *= 2"
   ]
  },
  {
   "cell_type": "code",
   "execution_count": null,
   "metadata": {
    "id": "eamOBinvHufn"
   },
   "outputs": [],
   "source": [
    "print(True)"
   ]
  },
  {
   "cell_type": "code",
   "execution_count": null,
   "metadata": {},
   "outputs": [],
   "source": []
  },
  {
   "cell_type": "code",
   "execution_count": 196,
   "metadata": {},
   "outputs": [
    {
     "name": "stdout",
     "output_type": "stream",
     "text": [
      "0\n",
      "B\n",
      "o\n",
      "n\n",
      "j\n",
      "1\n",
      "B\n",
      "o\n",
      "n\n",
      "j\n",
      "2\n",
      "B\n",
      "o\n",
      "n\n",
      "j\n",
      "3\n",
      "B\n",
      "o\n",
      "n\n",
      "j\n",
      "4\n",
      "B\n",
      "o\n",
      "n\n",
      "j\n",
      "5\n",
      "B\n",
      "o\n",
      "n\n",
      "j\n",
      "6\n",
      "B\n",
      "o\n",
      "n\n",
      "j\n",
      "7\n",
      "B\n",
      "o\n",
      "n\n",
      "j\n",
      "8\n",
      "B\n",
      "o\n",
      "n\n",
      "j\n",
      "9\n",
      "B\n",
      "o\n",
      "n\n",
      "j\n"
     ]
    }
   ],
   "source": [
    "for e in range(10):\n",
    "    print(e)\n",
    "    for l in \"Bonjour\":\n",
    "        print(l)\n",
    "        if l == 'j':\n",
    "            break"
   ]
  },
  {
   "cell_type": "code",
   "execution_count": 190,
   "metadata": {},
   "outputs": [
    {
     "name": "stdout",
     "output_type": "stream",
     "text": [
      "B\n",
      "o\n",
      "n\n",
      "j\n",
      "o\n",
      "u\n",
      "r\n"
     ]
    }
   ],
   "source": [
    "for l in \"Bonjour\":\n",
    "    print(l)"
   ]
  },
  {
   "cell_type": "code",
   "execution_count": 181,
   "metadata": {
    "id": "x5tMAyoZHuFk"
   },
   "outputs": [
    {
     "name": "stdout",
     "output_type": "stream",
     "text": [
      "Variable     Type     Data/Info\n",
      "-------------------------------\n",
      "a            int      5\n",
      "b            float    3.14\n",
      "c            float    18.14\n",
      "dict_1       dict     n=5\n",
      "liste_1      list     n=4\n",
      "liste_2      list     n=7\n",
      "mot          str      Bonjour\n",
      "tuple_1      tuple    n=7\n",
      "user_input   str      Bonjour\n",
      "var          bool     True\n",
      "var2         range    range(0, 1)\n"
     ]
    }
   ],
   "source": [
    "%whos"
   ]
  },
  {
   "cell_type": "markdown",
   "metadata": {
    "id": "Uz3MO-yCHvEb"
   },
   "source": [
    "___\n",
    "## **Exercice : Gestion du Mot de Passe**\n",
    "\n",
    "Objectif : Créer un programme en Python qui demande à l'utilisateur de saisir un mot de passe spécifique. L'utilisateur a un maximum de 3 tentatives pour saisir le mot de passe correctement.\n",
    "\n",
    "Instructions :\n",
    "\n",
    "1. Définissez une variable mot_de_passe_attendu avec la valeur \"ENS_PARIS_SACLAY\".\n",
    "2. Définissez une variable tentatives_max avec la valeur 3.\n",
    "3. Utilisez une boucle for pour permettre à l'utilisateur de saisir le mot de passe jusqu'à 3 tentatives.\n",
    "4. À chaque tentative, demandez à l'utilisateur de saisir le mot de passe à l'aide de la fonction input().\n",
    "5. Comparez la saisie de l'utilisateur avec le mot de passe attendu.\n",
    "  - Si la saisie est correcte, affichez \"Mot de passe correct. Accès autorisé.\" et sortez de la boucle.\n",
    "  - Si la saisie est incorrecte, affichez \"Mot de passe incorrect. Il vous reste [nombre] tentative(s).\" où [nombre] représente le nombre de tentatives restantes.\n",
    "  - Si le nombre maximal de tentatives est atteint, affichez \"Nombre maximal de tentatives atteint. Accès refusé.\"\n",
    "\n",
    "Conseils :\n",
    "\n",
    "- Utilisez une variable pour compter le nombre de tentatives.\n",
    "- Utilisez l'instruction break pour sortir de la boucle lorsque le mot de passe est correct.\n",
    "- Assurez-vous d'afficher des messages informatifs à l'utilisateur pour l'aider à comprendre le processus."
   ]
  },
  {
   "cell_type": "code",
   "execution_count": null,
   "metadata": {
    "id": "5X65JaCJKemU"
   },
   "outputs": [],
   "source": []
  },
  {
   "cell_type": "code",
   "execution_count": null,
   "metadata": {
    "id": "bEHsq6ycKeca"
   },
   "outputs": [],
   "source": []
  },
  {
   "cell_type": "code",
   "execution_count": null,
   "metadata": {
    "id": "zLfDrP7rKeZT"
   },
   "outputs": [],
   "source": []
  },
  {
   "cell_type": "code",
   "execution_count": null,
   "metadata": {},
   "outputs": [],
   "source": []
  },
  {
   "cell_type": "code",
   "execution_count": null,
   "metadata": {},
   "outputs": [],
   "source": []
  },
  {
   "cell_type": "code",
   "execution_count": null,
   "metadata": {},
   "outputs": [],
   "source": []
  }
 ],
 "metadata": {
  "colab": {
   "provenance": []
  },
  "kernelspec": {
   "display_name": "Python 3",
   "language": "python",
   "name": "python3"
  },
  "language_info": {
   "codemirror_mode": {
    "name": "ipython",
    "version": 3
   },
   "file_extension": ".py",
   "mimetype": "text/x-python",
   "name": "python",
   "nbconvert_exporter": "python",
   "pygments_lexer": "ipython3",
   "version": "3.8.5"
  }
 },
 "nbformat": 4,
 "nbformat_minor": 1
}

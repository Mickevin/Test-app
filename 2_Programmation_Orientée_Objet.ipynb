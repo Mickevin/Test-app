{
 "cells": [
  {
   "cell_type": "markdown",
   "metadata": {
    "id": "y091OjXnMejF"
   },
   "source": [
    "# **Programmation Orientée Objet**\n",
    "\n",
    "<img src='https://miro.medium.com/max/1200/1*Pl9OyXXrLH_5JiQB8vNx3w.jpeg'>\n"
   ]
  },
  {
   "cell_type": "markdown",
   "metadata": {
    "id": "huCPjidDNwWt"
   },
   "source": [
    "## **1 Deffinition d'une fonction**\n",
    "\n",
    "Avant de voir comment nous pouvons definir une classe, voyons le concept d'une fonction en python.\n",
    "\n",
    "En programmation, une fonction est une unité de code qui effectue une tâche spécifique et peut être appelée à partir d'autres parties du programme. Les fonctions sont utilisées pour organiser le code en le divisant en blocs plus petits, réutilisables et autonomes, ce qui facilite la maintenance, la compréhension et la réduction de la redondance.\n",
    "\n",
    "\n",
    "\n",
    "- **Définition** : Une fonction est définie avec un nom qui la représente, et elle peut prendre des paramètres (entrées) nécessaires à son fonctionnement.\n",
    "\n",
    "  Exemple de définition de fonction en Python :\n",
    "      def nom_de_la_fonction(parametre1:int=5, parametre2:int='ENS_') -> str:\n",
    "        \"\"\"\n",
    "        Documentation : Cette fonction renvoi n fois une chaine de caractère\n",
    "        para1 : str\n",
    "        para2 : int\n",
    "        \"\"\"\n",
    "\n",
    "        resultat = parametre1* parametre2\n",
    "        return resultat\n",
    "\n",
    "\n",
    "\n",
    "Dans cet exemple, la fonction a été définie avec de la documentation (le type des arguments attendus, le type de données en sortie ainsi que le fonctionnement de la fonction) et des arguments par défauts `parametre1=5` et `parametre2='ENS_'`.\n",
    "\n",
    "La variable `resultat` est une variable local car elle a été définie dans une fonction. Pour sortir cette donnée de notre fonction nous utilisons l'instruction `return`."
   ]
  },
  {
   "cell_type": "code",
   "execution_count": null,
   "metadata": {
    "id": "bFl44Uf4IFTo"
   },
   "outputs": [],
   "source": [
    "def nom_de_la_fonction(tentatives_max:int = 3, mot_de_passe_attendu:str = \"ENS_PARIS_SACLAY\") -> bool:\n",
    "  \"\"\"\n",
    "  Cette fonction demande à l'utilisateur de taper un mot de passe\n",
    "\n",
    "  tentatives_max        : int -> Nombre maximum de tentative.\n",
    "  mot_de_passe_attendu  : str -> Mot de passe attendu.\n",
    "\n",
    "  return                : bool -> Retourne True si l'utilisateur à taper le bon mot de passe, sinon False.\n",
    "  \"\"\"\n",
    "\n",
    "  for tentative in range(1, tentatives_max + 1):\n",
    "      mot_de_passe_saisi = input(\"Entrez le mot de passe : \")\n",
    "\n",
    "      if mot_de_passe_saisi == mot_de_passe_attendu:\n",
    "          print(\"Mot de passe correct. Accès autorisé.\")\n",
    "          return True  # Sortir de la boucle si le mot de passe est correct\n",
    "      else:\n",
    "          print(f\"Mot de passe incorrect. Il vous reste {tentatives_max - tentative} tentative(s).\")\n",
    "\n",
    "      if tentative == tentatives_max:\n",
    "          print(\"Nombre maximal de tentatives atteint. Accès refusé.\")\n",
    "\n",
    "\n",
    "  return False"
   ]
  },
  {
   "cell_type": "code",
   "execution_count": null,
   "metadata": {
    "id": "ewHxWLkYIQBB"
   },
   "outputs": [],
   "source": []
  },
  {
   "cell_type": "code",
   "execution_count": null,
   "metadata": {
    "id": "CCi1MLBVIP-b"
   },
   "outputs": [],
   "source": []
  },
  {
   "cell_type": "code",
   "execution_count": null,
   "metadata": {
    "id": "y7lyWRjamNFO"
   },
   "outputs": [],
   "source": []
  },
  {
   "cell_type": "code",
   "execution_count": null,
   "metadata": {
    "id": "3Yrq_gS6mNCX"
   },
   "outputs": [],
   "source": []
  },
  {
   "cell_type": "code",
   "execution_count": null,
   "metadata": {
    "id": "6owpjVuqjtHC"
   },
   "outputs": [],
   "source": []
  },
  {
   "cell_type": "markdown",
   "metadata": {
    "id": "6REl2cpblru6"
   },
   "source": [
    "Il est possible de gérer les cas de figure où le code pourrait planter lors de son l'exécution avec les instructions `try/except` et/ou `raise`pour au contraire générer un message d'erreur."
   ]
  },
  {
   "cell_type": "code",
   "execution_count": null,
   "metadata": {
    "id": "B5UyqmNYjtEa"
   },
   "outputs": [],
   "source": [
    "# Gestion des exceptions\n",
    "\n",
    "try:\n",
    "  pass # Instructions\n",
    "except:\n",
    "  pass # Instructions\n",
    "\n",
    "\n",
    "# Levée d'une exception\n",
    "if True:\n",
    "  raise BaseException(True)\n",
    "  # raise ValueError()\n",
    "  # raise NameError()\n",
    "  # raise TypeError()\n",
    "  # raise SyntaxError()\n",
    "  # raise ZeroDivisionError()"
   ]
  },
  {
   "cell_type": "code",
   "execution_count": null,
   "metadata": {
    "id": "WGmrtnGRmOMD"
   },
   "outputs": [],
   "source": []
  },
  {
   "cell_type": "code",
   "execution_count": null,
   "metadata": {
    "id": "GEBHccaDmOJh"
   },
   "outputs": [],
   "source": []
  },
  {
   "cell_type": "code",
   "execution_count": null,
   "metadata": {
    "id": "dQ4B-pIGjtBk"
   },
   "outputs": [],
   "source": []
  },
  {
   "cell_type": "code",
   "execution_count": null,
   "metadata": {
    "id": "WR6r9a0Zjs-9"
   },
   "outputs": [],
   "source": []
  },
  {
   "cell_type": "code",
   "execution_count": null,
   "metadata": {
    "id": "K7UobgLDjs8J"
   },
   "outputs": [],
   "source": []
  },
  {
   "cell_type": "markdown",
   "metadata": {
    "id": "RU_lqvAgSdxS"
   },
   "source": [
    "## **2. Définition d'une Classe**\n",
    "**Definition**\n",
    "\n",
    "La programmation orientée objet (POO) est un paradigme de programmation qui repose sur le concept d'objets. Dans ce paradigme, le code est organisé autour d'entités appelées \"objets\", qui représentent des instances concrètes ou abstraites de concepts du monde réel. Chaque objet peut avoir des propriétés (appelées attributs) et des comportements (appelés méthodes).\n",
    "\n",
    "Voici quelques concepts clés de la programmation orientée objet :\n",
    "\n",
    "- **Objets** : Les objets sont des instances spécifiques d'une classe, qui est un modèle ou un plan pour créer des objets. Par exemple, si une classe est définie pour représenter des voitures, un objet spécifique pourrait être une voiture particulière.\n",
    "\n",
    "- **Classes** : Les classes sont des structures qui définissent la manière dont les objets sont créés. Elles définissent les attributs (caractéristiques) et les méthodes (comportements) que les objets de la classe auront. Une classe est une sorte de modèle à partir duquel des objets peuvent être créés.\n",
    "\n",
    "- **Encapsulation** : L'encapsulation est le principe de regrouper les données (attributs) et les méthodes qui les manipulent au sein d'une même entité, c'est-à-dire une classe. Cela permet de cacher les détails d'implémentation et d'isoler le fonctionnement interne de l'objet.\n",
    "\n",
    "- **Héritage** : L'héritage est un mécanisme qui permet à une classe d'hériter des propriétés et des méthodes d'une autre classe. Cela favorise la réutilisation du code et la création de hiérarchies de classes.\n",
    "\n",
    "- **Polymorphisme** : Le polymorphisme permet à un même nom de méthode d'avoir des comportements différents en fonction du contexte. Il existe deux types de polymorphisme : le polymorphisme statique (surcharge) et le polymorphisme dynamique (redéfinition).\n",
    "\n",
    "- **Abstraction** : L'abstraction consiste à simplifier un concept complexe en modélisant uniquement les aspects pertinents tout en masquant les détails complexes.\n",
    "\n",
    "      # Déclaration d'une classe, paramètre 1 et 2 seront\n",
    "\n",
    "      class NomDeLaClasse:\n",
    "        # Définition des attributs au moment de l'instanciation\n",
    "        def __init__(self, parametre1, parametre2):\n",
    "          self.parametre1 = parametre1\n",
    "          self.parametre2 = parametre2\n",
    "\n",
    "        def __repr__(self):\n",
    "          return \"Exemple de retour\"\n",
    "\n",
    "        # Définition d'une méthode\n",
    "        def nom_de_la_methode(self, p1, p2):\n",
    "          self.value = p1 * p2 # Création d'un nouvel attribut\n",
    "\n",
    "      # Instance de classe\n",
    "      objet = NomDeLaClasse('parametre1', 'parametre2')\n",
    "\n",
    "      # Héritage :\n",
    "      class ClasseFille(NomDeLaClasseMère):\n",
    "        def __init__(self, parametre1, parametre2, parametre3):\n",
    "          NomDeLaClasseMère.__init__(self, parametre1, parametre2)\n",
    "          self.parametre3 = parametre3\n",
    "        \n",
    "        # Méthode utilisable uniquement dans la classe :\n",
    "        def __methode_encapsulee(self):\n",
    "          print(\"Test\")\n",
    "\n",
    "\n",
    "- __init__: permet de définir les attributs nécessaires à l'objet lors de son instanciation.\n",
    "- __repr__: permet de définir le type d'objet retourné par défaut.\n",
    "- __str__ : permet de définir ce qui est affiché par défaut lorsque l'on print un objet.\n",
    "- __add__ : permet de définir ce ci se produit lorsque l'on additionne des objets entre eux."
   ]
  },
  {
   "cell_type": "code",
   "execution_count": null,
   "metadata": {
    "id": "uQDbCC8KIPvt"
   },
   "outputs": [],
   "source": [
    "# Création d'une classe Voiture permettant d'instancier des objets de type voiture\n",
    "# -> Attributs de cette classe : marque, model, vitesse_max, controle_technique, kilometrage\n",
    "# -> Méthode 'voyage', qui crée un atribut depart, destination, et ajoute la distance parcourue au kilometrage"
   ]
  },
  {
   "cell_type": "code",
   "execution_count": 203,
   "metadata": {
    "id": "JpTbgn27IPtW"
   },
   "outputs": [],
   "source": [
    "class Voiture:\n",
    "    def __init__(self,marque, model, vitesse_max=250, controle_technique=True, kilometrage=0):\n",
    "        self.marque = marque\n",
    "        self.model = model\n",
    "        self.vitesse_max = vitesse_max\n",
    "        self.controle_technique = controle_technique\n",
    "        self.kilometrage = kilometrage\n",
    "        self.localisation = 'Paris'\n",
    "        \n",
    "    def __repr__(self):\n",
    "        return 'Bonjour tout le monde'\n",
    "        \n",
    "    def voyage(self, depart, destination, distance):\n",
    "        self.depart = depart\n",
    "        self.destination = destination\n",
    "        self.distance = distance"
   ]
  },
  {
   "cell_type": "code",
   "execution_count": 207,
   "metadata": {
    "id": "4YbSJVEUXnuF"
   },
   "outputs": [],
   "source": [
    "voiture1 = Voiture(marque=\"Peugeot\", model='308')\n",
    "voiture2 = Voiture(\"Renault\", 'Clio')"
   ]
  },
  {
   "cell_type": "code",
   "execution_count": 227,
   "metadata": {},
   "outputs": [],
   "source": [
    "voiture2.__setattr__(\"Renault\", 56)"
   ]
  },
  {
   "cell_type": "code",
   "execution_count": 229,
   "metadata": {},
   "outputs": [
    {
     "data": {
      "text/plain": [
       "56"
      ]
     },
     "execution_count": 229,
     "metadata": {},
     "output_type": "execute_result"
    }
   ],
   "source": [
    "voiture2.Renault"
   ]
  },
  {
   "cell_type": "code",
   "execution_count": 222,
   "metadata": {},
   "outputs": [
    {
     "data": {
      "text/plain": [
       "'Renault'"
      ]
     },
     "execution_count": 222,
     "metadata": {},
     "output_type": "execute_result"
    }
   ],
   "source": [
    "voiture2.__getattribute__('marque')"
   ]
  },
  {
   "cell_type": "code",
   "execution_count": 217,
   "metadata": {},
   "outputs": [
    {
     "name": "stdout",
     "output_type": "stream",
     "text": [
      "marque Renault\n",
      "model Clio\n",
      "vitesse_max 250\n",
      "controle_technique True\n",
      "kilometrage 0\n",
      "localisation Paris\n"
     ]
    }
   ],
   "source": [
    "for (k,v) in voiture2.__dict__.items():\n",
    "    print(k,v)"
   ]
  },
  {
   "cell_type": "code",
   "execution_count": 215,
   "metadata": {},
   "outputs": [
    {
     "data": {
      "text/plain": [
       "dict_items([('marque', 'Renault'), ('model', 'Clio'), ('vitesse_max', 250), ('controle_technique', True), ('kilometrage', 0), ('localisation', 'Paris')])"
      ]
     },
     "execution_count": 215,
     "metadata": {},
     "output_type": "execute_result"
    }
   ],
   "source": [
    "voiture2.__dict__.items()"
   ]
  },
  {
   "cell_type": "code",
   "execution_count": 185,
   "metadata": {},
   "outputs": [
    {
     "data": {
      "text/plain": [
       "('Renault', 250)"
      ]
     },
     "execution_count": 185,
     "metadata": {},
     "output_type": "execute_result"
    }
   ],
   "source": [
    "voiture2.marque, voiture2.vitesse_max"
   ]
  },
  {
   "cell_type": "code",
   "execution_count": 190,
   "metadata": {},
   "outputs": [
    {
     "data": {
      "text/plain": [
       "<method-wrapper '__ge__' of Voiture object at 0x000001A0308C5A30>"
      ]
     },
     "execution_count": 190,
     "metadata": {},
     "output_type": "execute_result"
    }
   ],
   "source": [
    "voiture2.__ge__"
   ]
  },
  {
   "cell_type": "code",
   "execution_count": 186,
   "metadata": {},
   "outputs": [
    {
     "data": {
      "text/plain": [
       "['__class__',\n",
       " '__delattr__',\n",
       " '__dict__',\n",
       " '__dir__',\n",
       " '__doc__',\n",
       " '__eq__',\n",
       " '__format__',\n",
       " '__ge__',\n",
       " '__getattribute__',\n",
       " '__gt__',\n",
       " '__hash__',\n",
       " '__init__',\n",
       " '__init_subclass__',\n",
       " '__le__',\n",
       " '__lt__',\n",
       " '__module__',\n",
       " '__ne__',\n",
       " '__new__',\n",
       " '__reduce__',\n",
       " '__reduce_ex__',\n",
       " '__repr__',\n",
       " '__setattr__',\n",
       " '__sizeof__',\n",
       " '__str__',\n",
       " '__subclasshook__',\n",
       " '__weakref__',\n",
       " 'controle_technique',\n",
       " 'kilometrage',\n",
       " 'localisation',\n",
       " 'marque',\n",
       " 'model',\n",
       " 'vitesse_max',\n",
       " 'voyage']"
      ]
     },
     "execution_count": 186,
     "metadata": {},
     "output_type": "execute_result"
    }
   ],
   "source": [
    "dir(voiture2)"
   ]
  },
  {
   "cell_type": "code",
   "execution_count": 163,
   "metadata": {},
   "outputs": [],
   "source": [
    "voiture2.voyage('Paris', 'Lyon', 450)"
   ]
  },
  {
   "cell_type": "code",
   "execution_count": 164,
   "metadata": {},
   "outputs": [
    {
     "data": {
      "text/plain": [
       "11350.0"
      ]
     },
     "execution_count": 164,
     "metadata": {},
     "output_type": "execute_result"
    }
   ],
   "source": [
    "voiture2.kilometrage"
   ]
  },
  {
   "cell_type": "code",
   "execution_count": null,
   "metadata": {},
   "outputs": [],
   "source": []
  },
  {
   "cell_type": "code",
   "execution_count": null,
   "metadata": {},
   "outputs": [],
   "source": []
  },
  {
   "cell_type": "code",
   "execution_count": null,
   "metadata": {},
   "outputs": [],
   "source": []
  },
  {
   "cell_type": "code",
   "execution_count": null,
   "metadata": {},
   "outputs": [],
   "source": []
  },
  {
   "cell_type": "code",
   "execution_count": null,
   "metadata": {},
   "outputs": [],
   "source": []
  },
  {
   "cell_type": "code",
   "execution_count": null,
   "metadata": {},
   "outputs": [],
   "source": []
  },
  {
   "cell_type": "code",
   "execution_count": null,
   "metadata": {},
   "outputs": [],
   "source": []
  },
  {
   "cell_type": "code",
   "execution_count": null,
   "metadata": {
    "id": "RCL7XINr9tKZ"
   },
   "outputs": [],
   "source": [
    "# Création d'une classe Humain permettant d'instancier des objets de type personnage\n",
    "# -> Attributs de cette classe : pseudo, age, solde_bancaire, localisation\n",
    "# -> Méthode 'mouvement_bancaire' : qui permet d'ajouter/retirer de l'argent au solde_bancaire\n",
    "# -> La classe Humain hérite de la classe Voiture"
   ]
  },
  {
   "cell_type": "code",
   "execution_count": 245,
   "metadata": {
    "id": "2E0WRZzy-Cja"
   },
   "outputs": [],
   "source": [
    "class Humain(Voiture):\n",
    "    def __init__(self, name, age):\n",
    "        Voiture.__init__(self, marque='Peageot', model='306')\n",
    "        self.name =name\n",
    "        self.afe = age\n",
    "    \n",
    "    def test(self):\n",
    "        print(\"Hello\")\n",
    "        \n",
    "    def test_2(self):\n",
    "        self.test()"
   ]
  },
  {
   "cell_type": "code",
   "execution_count": 246,
   "metadata": {
    "id": "cPRKYBsG-Cgy"
   },
   "outputs": [],
   "source": [
    "persnnage1 = Humain(\"Lucas\", 30)"
   ]
  },
  {
   "cell_type": "code",
   "execution_count": 237,
   "metadata": {
    "id": "_b78PJ9u-Kmg"
   },
   "outputs": [
    {
     "data": {
      "text/plain": [
       "'Peageot'"
      ]
     },
     "execution_count": 237,
     "metadata": {},
     "output_type": "execute_result"
    }
   ],
   "source": [
    "persnnage1.marque"
   ]
  },
  {
   "cell_type": "code",
   "execution_count": 238,
   "metadata": {
    "id": "BriieW1B-KkK"
   },
   "outputs": [
    {
     "name": "stdout",
     "output_type": "stream",
     "text": [
      "Hello\n"
     ]
    }
   ],
   "source": [
    "persnnage1.test_2()"
   ]
  },
  {
   "cell_type": "code",
   "execution_count": 247,
   "metadata": {
    "id": "kFszRtTE-KfE"
   },
   "outputs": [
    {
     "data": {
      "text/plain": [
       "'Lucas'"
      ]
     },
     "execution_count": 247,
     "metadata": {},
     "output_type": "execute_result"
    }
   ],
   "source": [
    "persnnage1.name"
   ]
  },
  {
   "cell_type": "code",
   "execution_count": null,
   "metadata": {
    "id": "VctfH5zU-LmC"
   },
   "outputs": [],
   "source": []
  },
  {
   "cell_type": "code",
   "execution_count": null,
   "metadata": {
    "id": "ehIoZysz-Ljb"
   },
   "outputs": [],
   "source": []
  },
  {
   "cell_type": "code",
   "execution_count": null,
   "metadata": {
    "id": "f416oHWy-LhA"
   },
   "outputs": [],
   "source": []
  },
  {
   "cell_type": "code",
   "execution_count": null,
   "metadata": {
    "id": "19AEdPrV-Kcp"
   },
   "outputs": [],
   "source": []
  },
  {
   "cell_type": "code",
   "execution_count": null,
   "metadata": {
    "id": "5sehNZLS-CeQ"
   },
   "outputs": [],
   "source": [
    "# Observation des méthodes et attributs des objets standards"
   ]
  },
  {
   "cell_type": "code",
   "execution_count": 248,
   "metadata": {
    "id": "0iN8QPNs-KLa"
   },
   "outputs": [
    {
     "data": {
      "text/plain": [
       "['__add__',\n",
       " '__class__',\n",
       " '__contains__',\n",
       " '__delattr__',\n",
       " '__dir__',\n",
       " '__doc__',\n",
       " '__eq__',\n",
       " '__format__',\n",
       " '__ge__',\n",
       " '__getattribute__',\n",
       " '__getitem__',\n",
       " '__getnewargs__',\n",
       " '__gt__',\n",
       " '__hash__',\n",
       " '__init__',\n",
       " '__init_subclass__',\n",
       " '__iter__',\n",
       " '__le__',\n",
       " '__len__',\n",
       " '__lt__',\n",
       " '__mod__',\n",
       " '__mul__',\n",
       " '__ne__',\n",
       " '__new__',\n",
       " '__reduce__',\n",
       " '__reduce_ex__',\n",
       " '__repr__',\n",
       " '__rmod__',\n",
       " '__rmul__',\n",
       " '__setattr__',\n",
       " '__sizeof__',\n",
       " '__str__',\n",
       " '__subclasshook__',\n",
       " 'capitalize',\n",
       " 'casefold',\n",
       " 'center',\n",
       " 'count',\n",
       " 'encode',\n",
       " 'endswith',\n",
       " 'expandtabs',\n",
       " 'find',\n",
       " 'format',\n",
       " 'format_map',\n",
       " 'index',\n",
       " 'isalnum',\n",
       " 'isalpha',\n",
       " 'isascii',\n",
       " 'isdecimal',\n",
       " 'isdigit',\n",
       " 'isidentifier',\n",
       " 'islower',\n",
       " 'isnumeric',\n",
       " 'isprintable',\n",
       " 'isspace',\n",
       " 'istitle',\n",
       " 'isupper',\n",
       " 'join',\n",
       " 'ljust',\n",
       " 'lower',\n",
       " 'lstrip',\n",
       " 'maketrans',\n",
       " 'partition',\n",
       " 'replace',\n",
       " 'rfind',\n",
       " 'rindex',\n",
       " 'rjust',\n",
       " 'rpartition',\n",
       " 'rsplit',\n",
       " 'rstrip',\n",
       " 'split',\n",
       " 'splitlines',\n",
       " 'startswith',\n",
       " 'strip',\n",
       " 'swapcase',\n",
       " 'title',\n",
       " 'translate',\n",
       " 'upper',\n",
       " 'zfill']"
      ]
     },
     "execution_count": 248,
     "metadata": {},
     "output_type": "execute_result"
    }
   ],
   "source": [
    "dir(\"Bonjour\")"
   ]
  },
  {
   "cell_type": "markdown",
   "metadata": {},
   "source": [
    "# Chaine de caractère"
   ]
  },
  {
   "cell_type": "code",
   "execution_count": null,
   "metadata": {},
   "outputs": [],
   "source": [
    "mot = \"Bonjour tout le monde\""
   ]
  },
  {
   "cell_type": "code",
   "execution_count": 249,
   "metadata": {
    "id": "SDCPWCrL-KJE"
   },
   "outputs": [
    {
     "data": {
      "text/plain": [
       "['Bonjour', 'tout', 'le', 'monde']"
      ]
     },
     "execution_count": 249,
     "metadata": {},
     "output_type": "execute_result"
    }
   ],
   "source": [
    "\"Bonjour tout le monde\".split()"
   ]
  },
  {
   "cell_type": "code",
   "execution_count": 250,
   "metadata": {
    "id": "bWKlkj_k-KGh"
   },
   "outputs": [
    {
     "data": {
      "text/plain": [
       "['B', 'nj', 'ur t', 'ut le m', 'nde']"
      ]
     },
     "execution_count": 250,
     "metadata": {},
     "output_type": "execute_result"
    }
   ],
   "source": [
    "\"Bonjour tout le monde\".split('o')"
   ]
  },
  {
   "cell_type": "code",
   "execution_count": 252,
   "metadata": {
    "id": "hmiukyyP-N9m"
   },
   "outputs": [
    {
     "data": {
      "text/plain": [
       "'bonjour tout le monde'"
      ]
     },
     "execution_count": 252,
     "metadata": {},
     "output_type": "execute_result"
    }
   ],
   "source": [
    "\"Bonjour tout le monde\".lower()"
   ]
  },
  {
   "cell_type": "code",
   "execution_count": 254,
   "metadata": {},
   "outputs": [
    {
     "data": {
      "text/plain": [
       "'BONJOUR TOUT LE MONDE'"
      ]
     },
     "execution_count": 254,
     "metadata": {},
     "output_type": "execute_result"
    }
   ],
   "source": [
    "\"Bonjour tout le monde\".upper()"
   ]
  },
  {
   "cell_type": "markdown",
   "metadata": {},
   "source": [
    "# Liste"
   ]
  },
  {
   "cell_type": "code",
   "execution_count": 255,
   "metadata": {},
   "outputs": [],
   "source": [
    "liste_1 = [1, 2, 3, 4]"
   ]
  },
  {
   "cell_type": "code",
   "execution_count": 256,
   "metadata": {},
   "outputs": [
    {
     "data": {
      "text/plain": [
       "['__add__',\n",
       " '__class__',\n",
       " '__contains__',\n",
       " '__delattr__',\n",
       " '__delitem__',\n",
       " '__dir__',\n",
       " '__doc__',\n",
       " '__eq__',\n",
       " '__format__',\n",
       " '__ge__',\n",
       " '__getattribute__',\n",
       " '__getitem__',\n",
       " '__gt__',\n",
       " '__hash__',\n",
       " '__iadd__',\n",
       " '__imul__',\n",
       " '__init__',\n",
       " '__init_subclass__',\n",
       " '__iter__',\n",
       " '__le__',\n",
       " '__len__',\n",
       " '__lt__',\n",
       " '__mul__',\n",
       " '__ne__',\n",
       " '__new__',\n",
       " '__reduce__',\n",
       " '__reduce_ex__',\n",
       " '__repr__',\n",
       " '__reversed__',\n",
       " '__rmul__',\n",
       " '__setattr__',\n",
       " '__setitem__',\n",
       " '__sizeof__',\n",
       " '__str__',\n",
       " '__subclasshook__',\n",
       " 'append',\n",
       " 'clear',\n",
       " 'copy',\n",
       " 'count',\n",
       " 'extend',\n",
       " 'index',\n",
       " 'insert',\n",
       " 'pop',\n",
       " 'remove',\n",
       " 'reverse',\n",
       " 'sort']"
      ]
     },
     "execution_count": 256,
     "metadata": {},
     "output_type": "execute_result"
    }
   ],
   "source": [
    "dir(liste_1)"
   ]
  },
  {
   "cell_type": "code",
   "execution_count": 277,
   "metadata": {},
   "outputs": [],
   "source": [
    "liste_1 = [1, 2, 3, 4, 4,4,8]"
   ]
  },
  {
   "cell_type": "code",
   "execution_count": 257,
   "metadata": {},
   "outputs": [
    {
     "data": {
      "text/plain": [
       "[1, 2, 3, 4, 5]"
      ]
     },
     "execution_count": 257,
     "metadata": {},
     "output_type": "execute_result"
    }
   ],
   "source": [
    "liste_1.append(5)\n",
    "liste_1"
   ]
  },
  {
   "cell_type": "code",
   "execution_count": 258,
   "metadata": {},
   "outputs": [
    {
     "data": {
      "text/plain": [
       "1"
      ]
     },
     "execution_count": 258,
     "metadata": {},
     "output_type": "execute_result"
    }
   ],
   "source": [
    "liste_1.pop(0)"
   ]
  },
  {
   "cell_type": "code",
   "execution_count": null,
   "metadata": {},
   "outputs": [],
   "source": []
  },
  {
   "cell_type": "code",
   "execution_count": 280,
   "metadata": {},
   "outputs": [
    {
     "ename": "ValueError",
     "evalue": "8 is not in list",
     "output_type": "error",
     "traceback": [
      "\u001b[1;31m---------------------------------------------------------------------------\u001b[0m",
      "\u001b[1;31mValueError\u001b[0m                                Traceback (most recent call last)",
      "\u001b[1;32m<ipython-input-280-e6fe29da56f2>\u001b[0m in \u001b[0;36m<module>\u001b[1;34m\u001b[0m\n\u001b[1;32m----> 1\u001b[1;33m \u001b[0mliste_1\u001b[0m\u001b[1;33m.\u001b[0m\u001b[0mindex\u001b[0m\u001b[1;33m(\u001b[0m\u001b[1;36m8\u001b[0m\u001b[1;33m,\u001b[0m \u001b[1;36m4\u001b[0m\u001b[1;33m,\u001b[0m\u001b[1;36m5\u001b[0m\u001b[1;33m)\u001b[0m\u001b[1;33m\u001b[0m\u001b[1;33m\u001b[0m\u001b[0m\n\u001b[0m",
      "\u001b[1;31mValueError\u001b[0m: 8 is not in list"
     ]
    }
   ],
   "source": [
    "liste_1.index(8, 4,5)"
   ]
  },
  {
   "cell_type": "code",
   "execution_count": 261,
   "metadata": {},
   "outputs": [
    {
     "data": {
      "text/plain": [
       "0"
      ]
     },
     "execution_count": 261,
     "metadata": {},
     "output_type": "execute_result"
    }
   ],
   "source": [
    "liste_1.count(20)"
   ]
  },
  {
   "cell_type": "code",
   "execution_count": 286,
   "metadata": {},
   "outputs": [],
   "source": [
    "def test(value, liste_1=liste_1):\n",
    "    try:\n",
    "        return liste_1.index(value)\n",
    "\n",
    "    except:\n",
    "        return None"
   ]
  },
  {
   "cell_type": "code",
   "execution_count": 288,
   "metadata": {},
   "outputs": [
    {
     "data": {
      "text/plain": [
       "[1, 2, 3, 4, 4, 4, 8]"
      ]
     },
     "execution_count": 288,
     "metadata": {},
     "output_type": "execute_result"
    }
   ],
   "source": [
    "liste_1"
   ]
  },
  {
   "cell_type": "code",
   "execution_count": 289,
   "metadata": {},
   "outputs": [],
   "source": [
    "test(9)"
   ]
  }
 ],
 "metadata": {
  "colab": {
   "provenance": []
  },
  "kernelspec": {
   "display_name": "Python 3",
   "language": "python",
   "name": "python3"
  },
  "language_info": {
   "codemirror_mode": {
    "name": "ipython",
    "version": 3
   },
   "file_extension": ".py",
   "mimetype": "text/x-python",
   "name": "python",
   "nbconvert_exporter": "python",
   "pygments_lexer": "ipython3",
   "version": "3.8.5"
  }
 },
 "nbformat": 4,
 "nbformat_minor": 1
}
